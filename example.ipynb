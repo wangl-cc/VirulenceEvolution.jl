{
 "cells": [
  {
   "cell_type": "code",
   "execution_count": 1,
   "metadata": {},
   "outputs": [],
   "source": [
    "using Plots\n",
    "using VirulenceEvolution"
   ]
  },
  {
   "cell_type": "code",
   "execution_count": 2,
   "metadata": {},
   "outputs": [
    {
     "data": {
      "text/plain": [
       "f (generic function with 1 method)"
      ]
     },
     "execution_count": 2,
     "metadata": {},
     "output_type": "execute_result"
    }
   ],
   "source": [
    "f(x) = rand((truncated(Normal(x, 0.1), 0.0, 1)))"
   ]
  },
  {
   "cell_type": "code",
   "execution_count": 3,
   "metadata": {},
   "outputs": [
    {
     "ename": "UndefVarError",
     "evalue": "UndefVarError: Normal not defined",
     "output_type": "error",
     "traceback": [
      "UndefVarError: Normal not defined",
      "",
      "Stacktrace:",
      " [1] f(::Float64) at ./In[2]:1",
      " [2] #gillespie_single#1(::Int64, ::Array{Int64,1}, ::Array{Int64,1}, ::Array{Float64,1}, ::Float64, ::Float64, ::Float64, ::Float64, ::Float64, ::Float64, ::Int64, ::typeof(gillespie_single), ::typeof(f), ::Int64) at /home/long/Dropbox/UndergraduateProject/code/VirulenceEvolution/src/singlepopulation.jl:127",
      " [3] (::VirulenceEvolution.var\"#kw##gillespie_single\")(::NamedTuple{(:S, :I, :R, :v, :β, :b, :d, :r, :μ, :m),Tuple{Int64,Array{Int64,1},Array{Int64,1},Array{Float64,1},Float64,Float64,Float64,Float64,Float64,Float64}}, ::typeof(gillespie_single), ::Function, ::Int64) at ./none:0",
      " [4] top-level scope at In[3]:1"
     ]
    }
   ],
   "source": [
    "S, I ,R, v = gillespie_single(f, 70;\n",
    "               S = 1000,\n",
    "               I = [10],\n",
    "               R = [0],\n",
    "               v = [0.3],\n",
    "               β = 0.01,\n",
    "               b = 0.2,\n",
    "               d = 0.1,\n",
    "               r = 0.1,\n",
    "               μ = 0.1,\n",
    "               m = 0.1)\n",
    "\n",
    "plot_N = plot(S.history, label=:S)\n",
    "plot!(plot_N, I.history, label=:I)\n",
    "plot!(plot_N, R.history, label=:R)\n",
    "plot_v = plot(v.history, label=\"E(v)\")\n",
    "plot(plot_N, plot_v, layout=(2, 1), size=(800,600))"
   ]
  },
  {
   "cell_type": "code",
   "execution_count": 4,
   "metadata": {},
   "outputs": [
    {
     "ename": "UndefVarError",
     "evalue": "UndefVarError: Normal not defined",
     "output_type": "error",
     "traceback": [
      "UndefVarError: Normal not defined",
      "",
      "Stacktrace:",
      " [1] f(::Float64) at ./In[2]:1",
      " [2] #gillespie_meta#2(::Array{Int64,1}, ::Array{Int64,2}, ::Array{Int64,2}, ::Array{Float64,1}, ::Float64, ::Float64, ::Float64, ::Float64, ::Float64, ::Float64, ::Float64, ::Int64, ::typeof(gillespie_meta), ::typeof(f), ::Int64) at /home/long/Dropbox/UndergraduateProject/code/VirulenceEvolution/src/metapopulation.jl:162",
      " [3] (::VirulenceEvolution.var\"#kw##gillespie_meta\")(::NamedTuple{(:S, :I, :R, :v, :β, :b, :d, :r, :μ, :mt, :mg),Tuple{Array{Int64,1},Array{Int64,2},Array{Int64,2},Array{Float64,1},Float64,Float64,Float64,Float64,Float64,Float64,Float64}}, ::typeof(gillespie_meta), ::Function, ::Int64) at ./none:0",
      " [4] top-level scope at In[4]:1"
     ]
    }
   ],
   "source": [
    "S, I ,R, v = gillespie_meta(f, 50;\n",
    "               S = [500, 500],\n",
    "               I = [10 0],\n",
    "               R = [0  0],\n",
    "               v = [0.3],\n",
    "               β = 0.01,\n",
    "               b = 0.2,\n",
    "               d = 0.1,\n",
    "               r = 0.1,\n",
    "               μ = 0.1,\n",
    "               mt = 0.01,\n",
    "               mg = 0.001)\n",
    "\n",
    "plot_S = plot()\n",
    "for i in S\n",
    "    plot!(plot_S, i.history)\n",
    "end\n",
    "plot_I = plot()\n",
    "for i in I\n",
    "    plot!(plot_I, i.history)\n",
    "end\n",
    "plot_R = plot()\n",
    "for i in R\n",
    "    plot!(plot_R, i.history)\n",
    "end\n",
    "plot_v = plot()\n",
    "for i in v\n",
    "    plot!(plot_v, i.history)\n",
    "end\n",
    "plot(plot_S, plot_I, plot_R, plot_v, layout=(4, 1), size=(800, 1200))"
   ]
  }
 ],
 "metadata": {
  "kernelspec": {
   "display_name": "Julia 1.3.1",
   "language": "julia",
   "name": "julia-1.3"
  },
  "language_info": {
   "file_extension": ".jl",
   "mimetype": "application/julia",
   "name": "julia",
   "version": "1.3.1"
  }
 },
 "nbformat": 4,
 "nbformat_minor": 2
}
